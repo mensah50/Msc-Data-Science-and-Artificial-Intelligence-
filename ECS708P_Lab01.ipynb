{
  "nbformat": 4,
  "nbformat_minor": 0,
  "metadata": {
    "colab": {
      "name": "ECS708P_Lab01.ipynb",
      "provenance": [],
      "collapsed_sections": [],
      "toc_visible": true,
      "include_colab_link": true
    },
    "kernelspec": {
      "name": "python3",
      "display_name": "Python 3"
    }
  },
  "cells": [
    {
      "cell_type": "markdown",
      "metadata": {
        "id": "view-in-github",
        "colab_type": "text"
      },
      "source": [
        "<a href=\"https://colab.research.google.com/github/mensah50/Msc-Data-Science-ans-Artificial-Intelligence-/blob/main/ECS708P_Lab01.ipynb\" target=\"_parent\"><img src=\"https://colab.research.google.com/assets/colab-badge.svg\" alt=\"Open In Colab\"/></a>"
      ]
    },
    {
      "cell_type": "markdown",
      "metadata": {
        "id": "j7ydQ_OTchpE"
      },
      "source": [
        "# Lab 1: Introduction\n",
        "\n",
        "**Machine learning** provides computational tools to extract knowledge from data. Therefore, to build and deploy machine learning solutions we need to use a  **data science computing environment**.\n",
        "\n",
        "**Python**-based computing environments are one of the most popular options among data scientists. Python provides standard, **in-built** functionalities that can be extended **importing** third-party packages. Some of the most common third-party libraries include NumPy, Pandas, Matplotlib and Scikit-learn.\n",
        "\n",
        "\n",
        "ECS708P labs use **Python-powered Jupyter notebooks** to create **interactive** data science computing environments. A Jupyter notebook consists of **code cells** that contain code that can be executed, and **text cells** that are used for documetation purposes. Jupyter notebooks are powered by an **engine**, in our case Python, that can be on your machine (**local runtime**) or hosted on a remote, cloud-based machine (**hosted runtime**). The instructions in each lab will assume that you are using **Google Colab**, but you should be able to use other runtimes too. If you choose other runtimes you might need to do some minor tweaks, such as installing a library that is provided by the Google Colab environment by default.\n",
        "\n",
        "The purpose of this lab is to familiarise ourselves with our Python environment. Once you've completed this lab, you will be able to attempt a quiz on QM+ that is worth **2 marks**."
      ]
    },
    {
      "cell_type": "markdown",
      "metadata": {
        "id": "cmsAdgpUApVA"
      },
      "source": [
        "# Running a code cell\n",
        "\n",
        "Click on this text, and cell that contains it will be highlighted. Double-click on it, and you will be able to edit it. \n",
        "\n",
        "Text cells, also known as markdown cells, allow you to document your work. You can use different fonts, add titles, include resources such as images and even write nice mathematical expression, for instance\n",
        "\n",
        "$\\begin{equation}\n",
        "f(x) = w_0 + w_1 x\n",
        "\\end{equation}$\n",
        "\n",
        "To write such nice mathematical expressions, you need to use a different markup language called Latex.\n",
        "\n",
        "Code cells, such as the one below this text cell, contain code that can be executed. In the example below, we first create the variable `mystring` by assigning the string value `\"Welcome to ECS708A!\"` and then we print it. You can run it by clicking on the play button on the left. Any output will appear underneath."
      ]
    },
    {
      "cell_type": "code",
      "metadata": {
        "id": "SCn3HDeSAt29",
        "colab": {
          "base_uri": "https://localhost:8080/"
        },
        "outputId": "f85d4a0f-c56c-4242-99c0-2eaedd58603c"
      },
      "source": [
        "mystring = \"Welcome to ECS708A!\"\n",
        "print(mystring)"
      ],
      "execution_count": 1,
      "outputs": [
        {
          "output_type": "stream",
          "text": [
            "Welcome to ECS708A!\n"
          ],
          "name": "stdout"
        }
      ]
    },
    {
      "cell_type": "markdown",
      "metadata": {
        "id": "8BhUJuFbFJyL"
      },
      "source": [
        "Notice that if you are using a Colab, it might take a while to run your first cell. The reason is that Google needs to allocate some computing resources first, so nothing to worry about.\n",
        "\n",
        "Here is another example, where we create an integer variable `myint`: "
      ]
    },
    {
      "cell_type": "code",
      "metadata": {
        "id": "Byj8em4eHQ5z"
      },
      "source": [
        "myint = 42"
      ],
      "execution_count": 2,
      "outputs": []
    },
    {
      "cell_type": "markdown",
      "metadata": {
        "id": "DcuyhwtiHXtP"
      },
      "source": [
        "You will have noticed that running the cell didn't produce any output. The variable has however been created, as you can see if you use the command `whos`:"
      ]
    },
    {
      "cell_type": "code",
      "metadata": {
        "id": "SSoMGgZnIKSC",
        "colab": {
          "base_uri": "https://localhost:8080/"
        },
        "outputId": "9fbe4445-2cdd-422d-9f9c-cf4994926520"
      },
      "source": [
        "whos"
      ],
      "execution_count": 3,
      "outputs": [
        {
          "output_type": "stream",
          "text": [
            "Variable   Type    Data/Info\n",
            "----------------------------\n",
            "myint      int     42\n",
            "mystring   str     Welcome to ECS708A!\n"
          ],
          "name": "stdout"
        }
      ]
    },
    {
      "cell_type": "markdown",
      "metadata": {
        "id": "enQdqh2QINny"
      },
      "source": [
        "Using `print`, you can check the value of `myint`:   "
      ]
    },
    {
      "cell_type": "code",
      "metadata": {
        "id": "VkPayVwdIcv4",
        "colab": {
          "base_uri": "https://localhost:8080/"
        },
        "outputId": "a3fcd028-7f0f-4ae7-9866-e924eaf73ca9"
      },
      "source": [
        "print(\"The ultimate answer to life, the universe and everything is...\", myint)"
      ],
      "execution_count": 4,
      "outputs": [
        {
          "output_type": "stream",
          "text": [
            "The ultimate answer to life, the universe and everything is... 42\n"
          ],
          "name": "stdout"
        }
      ]
    },
    {
      "cell_type": "markdown",
      "metadata": {
        "id": "sMn3UxbLIlXk"
      },
      "source": [
        "Very easy."
      ]
    },
    {
      "cell_type": "markdown",
      "metadata": {
        "id": "PvA0EzqFJoXG"
      },
      "source": [
        "# Uploading files\n",
        "\n",
        "Machine learning extracts knowledge from data. Hence, at some point we will need to make our data available to the machine running our code. If you are running your Jupyter notebook on Google Colab, then we'll need to make sure Colab's runtime has access to our data.\n",
        "\n",
        "There are different ways to make our data accessible, but here we will present the easiest one:\n",
        "\n",
        "- Find the `Files` icon on the left pane and click on it.\n",
        "- Click on the `Upload` icon.\n",
        "- Select the file that you want to upload from your local machine.\n",
        "\n",
        "Note that you will not be able to upload a file if your notebook has not been allocated any Colab computing resources. Also note that your notebook will be disconnected if left idle for too long and after 12 hours. Disconnection will result in your data being lost.\n",
        "\n",
        "Now it's your turn. Have a go at uploading the CSV file `AnimalsHRvsBM.csv`. Once uploaded, you should be able to see it on the left-hand pane.\n",
        "\n"
      ]
    },
    {
      "cell_type": "markdown",
      "metadata": {
        "id": "c2jJpRF4P6-l"
      },
      "source": [
        "# Importing libraries\n",
        "\n",
        "You can add new functionality to your Python Jupyter notebook environment by importing libraries. Let's import Pandas, one of the most popular Python libraries for working with structured data."
      ]
    },
    {
      "cell_type": "code",
      "metadata": {
        "id": "8SdaLHTQPSAq"
      },
      "source": [
        "import pandas as pd"
      ],
      "execution_count": 8,
      "outputs": []
    },
    {
      "cell_type": "markdown",
      "metadata": {
        "id": "Az8fR4zWQj-x"
      },
      "source": [
        "We can use Pandas to load the CSV file that we have just uploaded."
      ]
    },
    {
      "cell_type": "code",
      "metadata": {
        "id": "sRseZzYiQqC4"
      },
      "source": [
        "df = pd.read_csv('./AnimalsHRvsBM.csv')"
      ],
      "execution_count": 9,
      "outputs": []
    },
    {
      "cell_type": "markdown",
      "metadata": {
        "id": "Pe6QpwkLQwIq"
      },
      "source": [
        "The variable `df` is a Pandas DataFrame, a table-like data structure consisting of rows and columns. The easiest way to print a Pandas DataFrame is as follows:"
      ]
    },
    {
      "cell_type": "code",
      "metadata": {
        "id": "50CGxYU1RQzB",
        "colab": {
          "base_uri": "https://localhost:8080/",
          "height": 948
        },
        "outputId": "735f77c5-8ee0-4c55-9025-aab7d7d96a5a"
      },
      "source": [
        "df"
      ],
      "execution_count": 10,
      "outputs": [
        {
          "output_type": "execute_result",
          "data": {
            "text/html": [
              "<div>\n",
              "<style scoped>\n",
              "    .dataframe tbody tr th:only-of-type {\n",
              "        vertical-align: middle;\n",
              "    }\n",
              "\n",
              "    .dataframe tbody tr th {\n",
              "        vertical-align: top;\n",
              "    }\n",
              "\n",
              "    .dataframe thead th {\n",
              "        text-align: right;\n",
              "    }\n",
              "</style>\n",
              "<table border=\"1\" class=\"dataframe\">\n",
              "  <thead>\n",
              "    <tr style=\"text-align: right;\">\n",
              "      <th></th>\n",
              "      <th>Animal</th>\n",
              "      <th>BM (g)</th>\n",
              "      <th>HR (bpm)</th>\n",
              "    </tr>\n",
              "  </thead>\n",
              "  <tbody>\n",
              "    <tr>\n",
              "      <th>0</th>\n",
              "      <td>Wild mouse</td>\n",
              "      <td>22</td>\n",
              "      <td>480</td>\n",
              "    </tr>\n",
              "    <tr>\n",
              "      <th>1</th>\n",
              "      <td>White rat</td>\n",
              "      <td>237</td>\n",
              "      <td>347</td>\n",
              "    </tr>\n",
              "    <tr>\n",
              "      <th>2</th>\n",
              "      <td>White mouse</td>\n",
              "      <td>29</td>\n",
              "      <td>376</td>\n",
              "    </tr>\n",
              "    <tr>\n",
              "      <th>3</th>\n",
              "      <td>Talapoin</td>\n",
              "      <td>100</td>\n",
              "      <td>233</td>\n",
              "    </tr>\n",
              "    <tr>\n",
              "      <th>4</th>\n",
              "      <td>Syrian bear</td>\n",
              "      <td>250000</td>\n",
              "      <td>70</td>\n",
              "    </tr>\n",
              "    <tr>\n",
              "      <th>5</th>\n",
              "      <td>Spermophilus</td>\n",
              "      <td>189</td>\n",
              "      <td>290</td>\n",
              "    </tr>\n",
              "    <tr>\n",
              "      <th>6</th>\n",
              "      <td>Meerkat</td>\n",
              "      <td>5000</td>\n",
              "      <td>190</td>\n",
              "    </tr>\n",
              "    <tr>\n",
              "      <th>7</th>\n",
              "      <td>Siberian tiger</td>\n",
              "      <td>220000</td>\n",
              "      <td>82</td>\n",
              "    </tr>\n",
              "    <tr>\n",
              "      <th>8</th>\n",
              "      <td>Sheep</td>\n",
              "      <td>51000</td>\n",
              "      <td>103</td>\n",
              "    </tr>\n",
              "    <tr>\n",
              "      <th>9</th>\n",
              "      <td>Roe deer</td>\n",
              "      <td>20700</td>\n",
              "      <td>104</td>\n",
              "    </tr>\n",
              "    <tr>\n",
              "      <th>10</th>\n",
              "      <td>Rat</td>\n",
              "      <td>260</td>\n",
              "      <td>250</td>\n",
              "    </tr>\n",
              "    <tr>\n",
              "      <th>11</th>\n",
              "      <td>Rabbit</td>\n",
              "      <td>2500</td>\n",
              "      <td>273</td>\n",
              "    </tr>\n",
              "    <tr>\n",
              "      <th>12</th>\n",
              "      <td>Polar bear</td>\n",
              "      <td>375000</td>\n",
              "      <td>82</td>\n",
              "    </tr>\n",
              "    <tr>\n",
              "      <th>13</th>\n",
              "      <td>Peromyscus</td>\n",
              "      <td>22</td>\n",
              "      <td>420</td>\n",
              "    </tr>\n",
              "    <tr>\n",
              "      <th>14</th>\n",
              "      <td>Orangutan</td>\n",
              "      <td>100000</td>\n",
              "      <td>110</td>\n",
              "    </tr>\n",
              "    <tr>\n",
              "      <th>15</th>\n",
              "      <td>Mouse</td>\n",
              "      <td>27</td>\n",
              "      <td>723</td>\n",
              "    </tr>\n",
              "    <tr>\n",
              "      <th>16</th>\n",
              "      <td>Japanese monkey</td>\n",
              "      <td>6600</td>\n",
              "      <td>147</td>\n",
              "    </tr>\n",
              "    <tr>\n",
              "      <th>17</th>\n",
              "      <td>Humback whale</td>\n",
              "      <td>30000000</td>\n",
              "      <td>30</td>\n",
              "    </tr>\n",
              "    <tr>\n",
              "      <th>18</th>\n",
              "      <td>Human</td>\n",
              "      <td>66000</td>\n",
              "      <td>80</td>\n",
              "    </tr>\n",
              "    <tr>\n",
              "      <th>19</th>\n",
              "      <td>Horse</td>\n",
              "      <td>494000</td>\n",
              "      <td>40</td>\n",
              "    </tr>\n",
              "    <tr>\n",
              "      <th>20</th>\n",
              "      <td>Hamster</td>\n",
              "      <td>90</td>\n",
              "      <td>400</td>\n",
              "    </tr>\n",
              "    <tr>\n",
              "      <th>21</th>\n",
              "      <td>Guinea pig</td>\n",
              "      <td>593</td>\n",
              "      <td>260</td>\n",
              "    </tr>\n",
              "    <tr>\n",
              "      <th>22</th>\n",
              "      <td>Elephant Seal</td>\n",
              "      <td>91600</td>\n",
              "      <td>136</td>\n",
              "    </tr>\n",
              "    <tr>\n",
              "      <th>23</th>\n",
              "      <td>Elephant</td>\n",
              "      <td>3437000</td>\n",
              "      <td>35</td>\n",
              "    </tr>\n",
              "    <tr>\n",
              "      <th>24</th>\n",
              "      <td>Dog</td>\n",
              "      <td>25000</td>\n",
              "      <td>133</td>\n",
              "    </tr>\n",
              "    <tr>\n",
              "      <th>25</th>\n",
              "      <td>Cynomolgus monkey</td>\n",
              "      <td>5000</td>\n",
              "      <td>179</td>\n",
              "    </tr>\n",
              "    <tr>\n",
              "      <th>26</th>\n",
              "      <td>Chimpanzee</td>\n",
              "      <td>50600</td>\n",
              "      <td>15</td>\n",
              "    </tr>\n",
              "    <tr>\n",
              "      <th>27</th>\n",
              "      <td>Cat</td>\n",
              "      <td>4000</td>\n",
              "      <td>97</td>\n",
              "    </tr>\n",
              "    <tr>\n",
              "      <th>28</th>\n",
              "      <td>Camel</td>\n",
              "      <td>545000</td>\n",
              "      <td>49</td>\n",
              "    </tr>\n",
              "  </tbody>\n",
              "</table>\n",
              "</div>"
            ],
            "text/plain": [
              "               Animal    BM (g)  HR (bpm)\n",
              "0          Wild mouse        22       480\n",
              "1           White rat       237       347\n",
              "2         White mouse        29       376\n",
              "3            Talapoin       100       233\n",
              "4         Syrian bear    250000        70\n",
              "5        Spermophilus       189       290\n",
              "6             Meerkat      5000       190\n",
              "7      Siberian tiger    220000        82\n",
              "8               Sheep     51000       103\n",
              "9            Roe deer     20700       104\n",
              "10                Rat       260       250\n",
              "11             Rabbit      2500       273\n",
              "12         Polar bear    375000        82\n",
              "13         Peromyscus        22       420\n",
              "14          Orangutan    100000       110\n",
              "15              Mouse        27       723\n",
              "16    Japanese monkey      6600       147\n",
              "17      Humback whale  30000000        30\n",
              "18              Human     66000        80\n",
              "19              Horse    494000        40\n",
              "20            Hamster        90       400\n",
              "21         Guinea pig       593       260\n",
              "22      Elephant Seal     91600       136\n",
              "23           Elephant   3437000        35\n",
              "24                Dog     25000       133\n",
              "25  Cynomolgus monkey      5000       179\n",
              "26         Chimpanzee     50600        15\n",
              "27                Cat      4000        97\n",
              "28              Camel    545000        49"
            ]
          },
          "metadata": {
            "tags": []
          },
          "execution_count": 10
        }
      ]
    },
    {
      "cell_type": "markdown",
      "metadata": {
        "id": "lyR8luOlSBKk"
      },
      "source": [
        "The DataFrame `df` collects the average body mass (`BM`) and heart rate (`HR`) from 28 different animal species, from the little wild mouse to the massive humpback whale. \n"
      ]
    },
    {
      "cell_type": "code",
      "metadata": {
        "id": "5FUoQfd3SaDK",
        "colab": {
          "base_uri": "https://localhost:8080/",
          "height": 300
        },
        "outputId": "8c1c2b13-78e3-47bd-fb07-b9cf7864eab4"
      },
      "source": [
        "df.plot.scatter(x=\"BM (g)\", y=\"HR (bpm)\", logx=True)"
      ],
      "execution_count": 11,
      "outputs": [
        {
          "output_type": "execute_result",
          "data": {
            "text/plain": [
              "<matplotlib.axes._subplots.AxesSubplot at 0x7f5725186dd8>"
            ]
          },
          "metadata": {
            "tags": []
          },
          "execution_count": 11
        },
        {
          "output_type": "display_data",
          "data": {
            "image/png": "[encoded data removed]",
            "text/plain": [
              "<Figure size 432x288 with 1 Axes>"
            ]
          },
          "metadata": {
            "tags": [],
            "needs_background": "light"
          }
        }
      ]
    },
    {
      "cell_type": "markdown",
      "metadata": {
        "id": "y48elPv9Umde"
      },
      "source": [
        "This concludes this short introductory lab. Feel free to experiment with this notebook, add new cells or edit existing ones, it's all yours! If you want to use the original Jupyter notebook, you can always download it from QM+.\n",
        "\n",
        "\n",
        "When you've finished playing, complete a short quiz on QM+ and earn 2 marks!"
      ]
    },
    {
      "cell_type": "code",
      "metadata": {
        "id": "x91s55Ot2ftD"
      },
      "source": [
        "from google.colab import drive\n",
        "drive.mount('/content/drive')"
      ],
      "execution_count": null,
      "outputs": []
    }
  ]
}