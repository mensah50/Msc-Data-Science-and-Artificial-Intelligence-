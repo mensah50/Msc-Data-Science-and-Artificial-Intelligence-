{
  "nbformat": 4,
  "nbformat_minor": 0,
  "metadata": {
    "kernelspec": {
      "display_name": "Python 3",
      "language": "python",
      "name": "python3"
    },
    "language_info": {
      "codemirror_mode": {
        "name": "ipython",
        "version": 3
      },
      "file_extension": ".py",
      "mimetype": "text/x-python",
      "name": "python",
      "nbconvert_exporter": "python",
      "pygments_lexer": "ipython3",
      "version": "3.7.4"
    },
    "colab": {
      "name": "NLP_sentiment_analysis_dict1.ipynb",
      "provenance": [],
      "include_colab_link": true
    }
  },
  "cells": [
    {
      "cell_type": "markdown",
      "metadata": {
        "id": "view-in-github",
        "colab_type": "text"
      },
      "source": [
        "<a href=\"https://colab.research.google.com/github/mensah50/Msc-Data-Science-and-Artificial-Intelligence-/blob/main/NLP_sentiment_analysis_dict1.ipynb\" target=\"_parent\"><img src=\"https://colab.research.google.com/assets/colab-badge.svg\" alt=\"Open In Colab\"/></a>"
      ]
    },
    {
      "cell_type": "code",
      "metadata": {
        "id": "RoJqV-P3GxxI"
      },
      "source": [
        "text = \"hello I am happy. Are you?\""
      ],
      "execution_count": 1,
      "outputs": []
    },
    {
      "cell_type": "code",
      "metadata": {
        "id": "6A5jRktMGxxK"
      },
      "source": [
        "# libraries for: regular expressions\n",
        "import re"
      ],
      "execution_count": 4,
      "outputs": []
    },
    {
      "cell_type": "code",
      "metadata": {
        "id": "QFZ7Re55GxxK"
      },
      "source": [
        "def preProcess(text):\n",
        "    print(\"original:\", text)\n",
        "    # sentence segmentation - assume already done\n",
        "    pass\n",
        "    # word tokenisation\n",
        "    text = re.sub(r\"(\\w)([.,;:!?'\\\"”\\)])\", r\"\\1 \\2\", text)\n",
        "    text = re.sub(r\"([.,;:!?'\\\"“\\(])(\\w)\", r\"\\1 \\2\", text)\n",
        "    print(\"tokenising:\", text)\n",
        "    tokens = re.split(r\"\\s+\",text)\n",
        "    # normalisation\n",
        "    text = re.sub(r\"(\\S)\\1\\1+\",r\"\\1\\1\\1\", text)\n",
        "    tokens = [t.lower() for t in tokens]\n",
        "    return tokens"
      ],
      "execution_count": 5,
      "outputs": []
    },
    {
      "cell_type": "code",
      "metadata": {
        "colab": {
          "base_uri": "https://localhost:8080/"
        },
        "id": "6rGAUkwlGxxL",
        "outputId": "32652d7f-7030-47e8-b8d1-07c73678a8f3"
      },
      "source": [
        "print(preProcess(text))"
      ],
      "execution_count": 6,
      "outputs": [
        {
          "output_type": "stream",
          "text": [
            "original: hello I am happy. Are you?\n",
            "tokenising: hello I am happy . Are you ?\n",
            "['hello', 'i', 'am', 'happy', '.', 'are', 'you', '?']\n"
          ],
          "name": "stdout"
        }
      ]
    },
    {
      "cell_type": "code",
      "metadata": {
        "colab": {
          "base_uri": "https://localhost:8080/"
        },
        "id": "pI_QxQYxGxxL",
        "outputId": "0778b76c-f6ae-4668-d135-d640b9b7ed61"
      },
      "source": [
        "# a very simple dictionary\n",
        "sentimentDict = { 'happy': +1.0, 'sad': -1.0 }\n",
        "print(sentimentDict)"
      ],
      "execution_count": 7,
      "outputs": [
        {
          "output_type": "stream",
          "text": [
            "{'happy': 1.0, 'sad': -1.0}\n"
          ],
          "name": "stdout"
        }
      ]
    },
    {
      "cell_type": "code",
      "metadata": {
        "id": "esCZjc6RGxxM"
      },
      "source": [
        "def getSentiment(word):\n",
        "    try:\n",
        "        return sentimentDict[word]\n",
        "    except KeyError:\n",
        "        return 0.0"
      ],
      "execution_count": 8,
      "outputs": []
    },
    {
      "cell_type": "code",
      "metadata": {
        "id": "xPafH5VQGxxM"
      },
      "source": [
        "def analyseSentiment(text):\n",
        "    words = preProcess(text)\n",
        "    print(\"words:\", words)\n",
        "    scores = [getSentiment(w) for w in words]\n",
        "    print(\"scores\", scores)\n",
        "    return sum(scores)"
      ],
      "execution_count": 9,
      "outputs": []
    },
    {
      "cell_type": "code",
      "metadata": {
        "colab": {
          "base_uri": "https://localhost:8080/"
        },
        "id": "2Bjgq0ONGxxM",
        "outputId": "c28438e3-90af-4623-f05e-8e1564fc00db"
      },
      "source": [
        "s = analyseSentiment(text)\n",
        "print(\"sentiment = \", s)"
      ],
      "execution_count": 10,
      "outputs": [
        {
          "output_type": "stream",
          "text": [
            "original: hello I am happy. Are you?\n",
            "tokenising: hello I am happy . Are you ?\n",
            "words: ['hello', 'i', 'am', 'happy', '.', 'are', 'you', '?']\n",
            "scores [0.0, 0.0, 0.0, 1.0, 0.0, 0.0, 0.0, 0.0]\n",
            "sentiment =  1.0\n"
          ],
          "name": "stdout"
        }
      ]
    },
    {
      "cell_type": "code",
      "metadata": {
        "colab": {
          "base_uri": "https://localhost:8080/"
        },
        "id": "mkMBvhNCGxxN",
        "outputId": "3bef6fcc-b43c-47b3-f815-5ff48f1f56fd"
      },
      "source": [
        "analyseSentiment(\"i am very sad\")"
      ],
      "execution_count": 11,
      "outputs": [
        {
          "output_type": "stream",
          "text": [
            "original: i am very sad\n",
            "tokenising: i am very sad\n",
            "words: ['i', 'am', 'very', 'sad']\n",
            "scores [0.0, 0.0, 0.0, -1.0]\n"
          ],
          "name": "stdout"
        },
        {
          "output_type": "execute_result",
          "data": {
            "text/plain": [
              "-1.0"
            ]
          },
          "metadata": {
            "tags": []
          },
          "execution_count": 11
        }
      ]
    },
    {
      "cell_type": "code",
      "metadata": {
        "id": "phBQeH1YGxxN"
      },
      "source": [
        ""
      ],
      "execution_count": null,
      "outputs": []
    }
  ]
}
