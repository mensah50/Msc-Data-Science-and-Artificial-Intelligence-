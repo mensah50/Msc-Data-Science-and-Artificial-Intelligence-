{
  "nbformat": 4,
  "nbformat_minor": 0,
  "metadata": {
    "colab": {
      "name": "DataMining_ECS766_Lab01.ipynb",
      "provenance": [],
      "collapsed_sections": [],
      "include_colab_link": true
    },
    "kernelspec": {
      "display_name": "Python 3",
      "language": "python",
      "name": "python3"
    },
    "language_info": {
      "codemirror_mode": {
        "name": "ipython",
        "version": 3
      },
      "file_extension": ".py",
      "mimetype": "text/x-python",
      "name": "python",
      "nbconvert_exporter": "python",
      "pygments_lexer": "ipython3",
      "version": "3.7.4"
    }
  },
  "cells": [
    {
      "cell_type": "markdown",
      "metadata": {
        "id": "view-in-github",
        "colab_type": "text"
      },
      "source": [
        "<a href=\"https://colab.research.google.com/github/mensah50/Msc-Data-Science-and-Artificial-Intelligence-/blob/main/DataMining_ECS766_Lab01.ipynb\" target=\"_parent\"><img src=\"https://colab.research.google.com/assets/colab-badge.svg\" alt=\"Open In Colab\"/></a>"
      ]
    },
    {
      "cell_type": "markdown",
      "metadata": {
        "id": "KENzTqh7ZdvV"
      },
      "source": [
        "# Lab session 1: Data"
      ]
    },
    {
      "cell_type": "markdown",
      "metadata": {
        "id": "miqT2XsNZdvY"
      },
      "source": [
        "## Introduction \n",
        "\n",
        "The aim of this lab is for students to familiarise with  **basic exploratory data analysis** of a sample dataset, and more specifically with the concepts of **summary statistics** and **data visualisation** covered in Lecture 2. We will use  the Python's **pandas** package in this **notebook** environment. \n",
        "\n",
        "<font color = 'maroon'>*This session <ins>is a warm-up that will not count toward your final grade</ins>.*</font> \n",
        "\n"
      ]
    },
    {
      "cell_type": "markdown",
      "metadata": {
        "id": "oPjBrwRhZdvb"
      },
      "source": [
        "### Before we start: \n",
        "\n",
        "This environment that allows us to enter both text and run codes interactively, is a web-based user-friendly environment called [Jupyter notebook](https://jupyter.org/).\n",
        "\n",
        "There are two types of cells: *Text* and *Code*. You can add your own cells. You can also edit the texts by double-clicking on them. It follows the [markup rules](https://github.com/adam-p/markdown-here/wiki/Markdown-Cheatsheet). \n",
        "\n",
        "In order to execute (run) a cell, you can use one of the following ways:\n",
        "\n",
        "0. `Shift + Enter` : executes a cell and goes to the next one.\n",
        "1. `Ctrl + Enter` : executes a block but stays at the same block. This is equivalent to clicking on the *run* button to the left of the cell, which appears when you hover the mouse over the `[ ]` icon. \n",
        "2. Use the `Runtime` tab (at the top of the page), which gives you more options as well.\n",
        "\n",
        "Now, test your knowledge by running the next cell (the output should appear right after):"
      ]
    },
    {
      "cell_type": "code",
      "metadata": {
        "id": "v0T8VcP9DSWe",
        "colab": {
          "base_uri": "https://localhost:8080/"
        },
        "outputId": "d92ec790-f626-4043-8ef4-f7d35602859a"
      },
      "source": [
        "for i in range(5):\n",
        "  print('{:2d} - Welcome to the Data Mining lab!'.format(2**i))"
      ],
      "execution_count": 1,
      "outputs": [
        {
          "output_type": "stream",
          "text": [
            " 1 - Welcome to the Data Mining lab!\n",
            " 2 - Welcome to the Data Mining lab!\n",
            " 4 - Welcome to the Data Mining lab!\n",
            " 8 - Welcome to the Data Mining lab!\n",
            "16 - Welcome to the Data Mining lab!\n"
          ],
          "name": "stdout"
        }
      ]
    },
    {
      "cell_type": "markdown",
      "metadata": {
        "id": "T_hB_CXQNTho"
      },
      "source": [
        "As you might have noticed, we will be using Python code. Let's have a word on why `Python`? \n",
        "\n",
        "*Well, for one, it is the most preferred language among data scientist, according to [this poll](https://www.kdnuggets.com/2018/05/poll-tools-analytics-data-science-machine-learning-results.html).\n",
        "Also it helps that it is a general purpose programming language with a simple syntax. It also has a lot of great open-source libraries -- which, in Python, we call them `packages` -- developed by an active community. If interested, [read more](https://www.cbtnuggets.com/blog/technology/data/why-data-scientists-love-python) on why Python is particularly so popular among data scientist.*"
      ]
    },
    {
      "cell_type": "markdown",
      "metadata": {
        "id": "fffCe7a9Zdvk"
      },
      "source": [
        "### Some more `notebook` cool tricks:\n"
      ]
    },
    {
      "cell_type": "markdown",
      "metadata": {
        "id": "Yqt3m-dISdQH"
      },
      "source": [
        "- You can use the **`tab`** button for auto-completing. You can also use `tab` after a **`dot`** to be shown a drop-down list of the available attributes and methods on an object or a class. For instance, let's create a string object called `mystring` (by executing the first cell), and use the `tab` key after a `dot` to see a list of available attributes and methods for a string object in Python (in the second cell: don't run it, just use the tab key after dot!)."
      ]
    },
    {
      "cell_type": "code",
      "metadata": {
        "id": "5lWMrlANLVgS"
      },
      "source": [
        "mystring = 'Hello, World!'"
      ],
      "execution_count": 2,
      "outputs": []
    },
    {
      "cell_type": "code",
      "metadata": {
        "id": "AaQ7X-h6OVOm",
        "scrolled": true,
        "colab": {
          "base_uri": "https://localhost:8080/",
          "height": 130
        },
        "outputId": "b16b4cf4-e05b-4939-aaaf-f12b28a2f361"
      },
      "source": [
        "mystring.  "
      ],
      "execution_count": 4,
      "outputs": [
        {
          "output_type": "error",
          "ename": "SyntaxError",
          "evalue": "ignored",
          "traceback": [
            "\u001b[0;36m  File \u001b[0;32m\"<ipython-input-4-4ccb1590f6c2>\"\u001b[0;36m, line \u001b[0;32m1\u001b[0m\n\u001b[0;31m    mystring.\u001b[0m\n\u001b[0m              ^\u001b[0m\n\u001b[0;31mSyntaxError\u001b[0m\u001b[0;31m:\u001b[0m invalid syntax\n"
          ]
        }
      ]
    },
    {
      "cell_type": "markdown",
      "metadata": {
        "id": "p7v8mCdQOpgZ"
      },
      "source": [
        "Note that in Python, every variable is an object. Also by now, you should have noticed that we do not need to explicitly declare variables and their types in Python before using them.\n",
        "\n",
        "Another thing to keep in mind is that objects and functions (runtime variables) persist between different cells in the same notebook session. If you want to clear the memory, you can choose \"`Reset all runtimes...`\" under the \"`Runtime`\" tab from the top-left menu. "
      ]
    },
    {
      "cell_type": "markdown",
      "metadata": {
        "id": "9FjvhE_VR2BC"
      },
      "source": [
        "- Another useful point about the `notebook` environment is that if you want to get help on anything (a method, a function, an object, etc), you can just put a question mark in front of it and execute that line. For instance, let's get help on what the `strip` method does on a string object, by executing the following cell:"
      ]
    },
    {
      "cell_type": "code",
      "metadata": {
        "id": "RJTJ4wLFSXTz"
      },
      "source": [
        "mystring.strip?\n",
        "# This opens the help on the method \"strip\" at the bottom of this\n",
        "# page. You can close the help page after reading it.\n",
        "# By the way, this is how we designate a comment line in Python!"
      ],
      "execution_count": 3,
      "outputs": []
    },
    {
      "cell_type": "markdown",
      "metadata": {
        "id": "RQrmMEyJU9wa"
      },
      "source": [
        "From now on, we may give a hint about answering a question by putting a question mark in front of a command to open the help page for it for you. Your task is to complete the command. "
      ]
    },
    {
      "cell_type": "code",
      "metadata": {
        "id": "WOhjRZRZVIVC",
        "colab": {
          "base_uri": "https://localhost:8080/"
        },
        "outputId": "28ae956b-4c29-4d59-c889-50260fa6ef3b"
      },
      "source": [
        "print(mystring)\n",
        "print(mystring.strip())"
      ],
      "execution_count": 4,
      "outputs": [
        {
          "output_type": "stream",
          "text": [
            "Hello, World!\n",
            "Hello, World!\n"
          ],
          "name": "stdout"
        }
      ]
    },
    {
      "cell_type": "markdown",
      "metadata": {
        "id": "KKlNqAg6MzRP"
      },
      "source": [
        "## 1.   Explore the Dataset -- using Python's `Pandas`"
      ]
    },
    {
      "cell_type": "markdown",
      "metadata": {
        "id": "jMy4U6wpdclq"
      },
      "source": [
        "Here, we are going to perform some basic *exploratory data analysis* on some sample data.\n",
        "Data exploration refers to the preliminary investigation of data in order\n",
        "to better understand its specific characteristics. There are two key motivations for data exploration:\n",
        "1. To help users select the appropriate preprocessing and data analysis technique used.\n",
        "2. To make use of humans' abilities to recognize patterns in the data.\n",
        "\n",
        "The data is about the \"cars for sale\", which was collected in Summer 2014 from the website _Autotrader.com_,  by one of our MSc student who worked on a data mining project. The data is saved in a CSV file, called **`LondonCars.csv`**."
      ]
    },
    {
      "cell_type": "markdown",
      "metadata": {
        "id": "MGVOTd6ml6NT"
      },
      "source": [
        "---\n",
        "> **Q0:** Why are such files called `CSV`? (Find out what CSV stands for. It may also help to try and open the file using a basic text editor).\n"
      ]
    },
    {
      "cell_type": "markdown",
      "metadata": {
        "id": "dNKGLzR0OTSj"
      },
      "source": [
        "> **A0:** \n",
        "\n",
        "comma-separated values\n",
        "A comma-separated values (CSV) file is a delimited text file that uses a comma to separate values. Each line of the file is a data record. Each record consists of one or more fields, separated by commas.\n",
        "---"
      ]
    },
    {
      "cell_type": "markdown",
      "metadata": {
        "id": "YiEG9EOxZdv0"
      },
      "source": [
        "### 1.1   Upload the CSV file to this machine.\n",
        "\n"
      ]
    },
    {
      "cell_type": "markdown",
      "metadata": {
        "id": "ZvDYSO7gPnfU"
      },
      "source": [
        ">-   On the left side of this page, click on the arrow to \"Open the left pane\". \n",
        "-   From the \"Files\" tab, click on `UPLOAD`\n",
        "- Choose the CSV file that you downloaded from QM+ to your local machine, to be uploaded to *this machine*.\n",
        "\n",
        ">_Note:_ *By \"this machine\", we mean the virtual machine that is allocated to your account and running this notebook, hosted by Google Compute Engine. Note that next time you log in, the file may be gone and needs to be re-uploaded, as Google recycles Virtual machines when they are idle for a while.*"
      ]
    },
    {
      "cell_type": "markdown",
      "metadata": {
        "id": "s6LDpsBVZdv2"
      },
      "source": [
        "### 1.2   Load the dataset from the CSV file:\n",
        "\n"
      ]
    },
    {
      "cell_type": "markdown",
      "metadata": {
        "id": "k0gxX165m7JI"
      },
      "source": [
        "We will use a package in Python called [pandas](https://pandas.pydata.org/): it has many useful features to work with structured data, and is popular for its ease of use (and as is the case for any Python package, it is [open-source](https://github.com/pandas-dev/pandas)).\n"
      ]
    },
    {
      "cell_type": "markdown",
      "metadata": {
        "id": "gFA_eR7m516a"
      },
      "source": [
        "So, let's start by reading the csv file into a `pandas' DataFrame`:\n",
        "\n",
        "(Note that we use **`import`** to (guess what) import a package in Python! We can also assign a different name (alias) to it, usually a shorthand name for convenience. For example, we typically `import pandas as pd`)\n",
        "\n",
        "Execute the following code block. \n",
        "\n",
        "\n",
        "\n",
        " \n"
      ]
    },
    {
      "cell_type": "code",
      "metadata": {
        "cellView": "both",
        "id": "KjvGRNGgNnzF"
      },
      "source": [
        "import pandas as pd\n",
        "df = pd.read_csv('./LondonCars2014.csv')"
      ],
      "execution_count": 5,
      "outputs": []
    },
    {
      "cell_type": "markdown",
      "metadata": {
        "id": "p_m8B7bVT98P"
      },
      "source": [
        "Let's get more information about the `read_csv` method that we used by executing the following cell:"
      ]
    },
    {
      "cell_type": "code",
      "metadata": {
        "id": "zFLpA98_QmZa"
      },
      "source": [
        "pd.read_csv?"
      ],
      "execution_count": 6,
      "outputs": []
    },
    {
      "cell_type": "markdown",
      "metadata": {
        "id": "exMOTcLuU20P"
      },
      "source": [
        "---\n",
        "> **Q1:** You should notice that the command has many options. When these options are not specified, their default values are taken. For example, find out what these default values were for our `read_csv`. Also find out, in particular, what the options `sep`, `header`, `index_col`, `usecols`, `dtype`, `na_values`, and `encoding` do."
      ]
    },
    {
      "cell_type": "markdown",
      "metadata": {
        "id": "rt0KmDoOWURV"
      },
      "source": [
        "> **A1:** \n",
        "\n",
        "sep: str, default ','\n",
        "Delimiter to use. If sep is None, the C engine cannot automatically detect\n",
        "the separator, but the Python parsing engine can, meaning the latter will\n",
        "be used and automatically detect the separator by Python's builtin sniffer\n",
        "tool, ``csv.Sniffer``. \n",
        "In addition, separators longer than 1 character and\n",
        "different from ``'\\s+'`` will be interpreted as regular expressions and\n",
        "will also force the use of the Python parsing engine. Note that regex\n",
        "delimiters are prone to ignoring quoted data. Regex example: ``'\\r\\t'``.\n",
        "\n",
        "header: int, list of int, default 'infer'\n",
        "Row number(s) to use as the column names, and the start of the\n",
        "data.  Default behavior is to infer the column names: if no names\n",
        "are passed the behavior is identical to ``header=0`` and column\n",
        "names are inferred from the first line of the file, if column\n",
        "names are passed explicitly then the behavior is identical to\n",
        "``header=None``. Explicitly pass ``header=0`` to be able to\n",
        "replace existing names. The header can be a list of integers that\n",
        "specify row locations for a multi-index on the columns\n",
        "e.g. [0,1,3]. Intervening rows that are not specified will be\n",
        "skipped (e.g. 2 in this example is skipped). Note that this\n",
        "parameter ignores commented lines and empty lines if\n",
        "``skip_blank_lines=True``, so ``header=0`` denotes the first line of\n",
        "data rather than the first line of the file.\n",
        "\n",
        "index_col: int, str, sequence of int / str, or False, default ``None``\n",
        "Column(s) to use as the row labels of the ``DataFrame``, either given as\n",
        "string name or column index. If a sequence of int / str is given, a\n",
        "MultiIndex is used.\n",
        "\n",
        "usecols:\n",
        "\n",
        "dtype: data types\n",
        "Type name or dict of column -> type, optional\n",
        "    Data type for data or columns. E.g. {'a': np.float64, 'b': np.int32,\n",
        "    'c': 'Int64'}\n",
        "    Use `str` or `object` together with suitable `na_values` settings\n",
        "    to preserve and not interpret dtype.\n",
        "    If converters are specified, they will be applied INSTEAD\n",
        "    of dtype conversion.\n",
        "\n",
        "na_values: null values?\n",
        "\n",
        "encoding:\n",
        "\n",
        "\n",
        "---"
      ]
    },
    {
      "cell_type": "markdown",
      "metadata": {
        "id": "P4aqrumUZdv-"
      },
      "source": [
        "### 1.3   Get general information about the data:\n",
        "\n"
      ]
    },
    {
      "cell_type": "markdown",
      "metadata": {
        "id": "_OM7Gcip50oE"
      },
      "source": [
        "So far, we have read the csv file into a variable we called **`df`**: it is a pandas `DataFrame` object that contains the information in the csv file, along with many useful attributes and methods. For instance, let's print the first few entries along with the column names, to get a quick feeling about the data:\n"
      ]
    },
    {
      "cell_type": "code",
      "metadata": {
        "id": "OyU38RdluTuA",
        "colab": {
          "base_uri": "https://localhost:8080/",
          "height": 204
        },
        "outputId": "549c949a-eef7-4505-abb3-704786f37e09"
      },
      "source": [
        "df.head()"
      ],
      "execution_count": 7,
      "outputs": [
        {
          "output_type": "execute_result",
          "data": {
            "text/html": [
              "<div>\n",
              "<style scoped>\n",
              "    .dataframe tbody tr th:only-of-type {\n",
              "        vertical-align: middle;\n",
              "    }\n",
              "\n",
              "    .dataframe tbody tr th {\n",
              "        vertical-align: top;\n",
              "    }\n",
              "\n",
              "    .dataframe thead th {\n",
              "        text-align: right;\n",
              "    }\n",
              "</style>\n",
              "<table border=\"1\" class=\"dataframe\">\n",
              "  <thead>\n",
              "    <tr style=\"text-align: right;\">\n",
              "      <th></th>\n",
              "      <th>Make</th>\n",
              "      <th>Model</th>\n",
              "      <th>Year</th>\n",
              "      <th>Mileage</th>\n",
              "      <th>Price</th>\n",
              "      <th>Body Style</th>\n",
              "      <th>Ex Color</th>\n",
              "      <th>In Color</th>\n",
              "      <th>Engine</th>\n",
              "      <th>Transmission</th>\n",
              "      <th>Doors</th>\n",
              "    </tr>\n",
              "  </thead>\n",
              "  <tbody>\n",
              "    <tr>\n",
              "      <th>0</th>\n",
              "      <td>Toyota</td>\n",
              "      <td>Avalon XLE</td>\n",
              "      <td>2014</td>\n",
              "      <td>4725</td>\n",
              "      <td>28995</td>\n",
              "      <td>Sedan</td>\n",
              "      <td>Gray</td>\n",
              "      <td>Black</td>\n",
              "      <td>6 Cyl</td>\n",
              "      <td>Automatic</td>\n",
              "      <td>4</td>\n",
              "    </tr>\n",
              "    <tr>\n",
              "      <th>1</th>\n",
              "      <td>Ford</td>\n",
              "      <td>Escape SE</td>\n",
              "      <td>2014</td>\n",
              "      <td>17201</td>\n",
              "      <td>24994</td>\n",
              "      <td>SUV</td>\n",
              "      <td>Silver</td>\n",
              "      <td>Black</td>\n",
              "      <td>4 Cyl</td>\n",
              "      <td>Automatic</td>\n",
              "      <td>4</td>\n",
              "    </tr>\n",
              "    <tr>\n",
              "      <th>2</th>\n",
              "      <td>Hyundai</td>\n",
              "      <td>Santa Fe Sport</td>\n",
              "      <td>2014</td>\n",
              "      <td>6279</td>\n",
              "      <td>25998</td>\n",
              "      <td>SUV</td>\n",
              "      <td>Silver</td>\n",
              "      <td>Gray</td>\n",
              "      <td>4 Cyl</td>\n",
              "      <td>Automatic</td>\n",
              "      <td>4</td>\n",
              "    </tr>\n",
              "    <tr>\n",
              "      <th>3</th>\n",
              "      <td>Ford</td>\n",
              "      <td>Escape SE</td>\n",
              "      <td>2014</td>\n",
              "      <td>16262</td>\n",
              "      <td>26684</td>\n",
              "      <td>SUV</td>\n",
              "      <td>Black</td>\n",
              "      <td>Black</td>\n",
              "      <td>4 Cyl</td>\n",
              "      <td>Automatic</td>\n",
              "      <td>4</td>\n",
              "    </tr>\n",
              "    <tr>\n",
              "      <th>4</th>\n",
              "      <td>Jeep</td>\n",
              "      <td>Grand Cherokee Limited Edition</td>\n",
              "      <td>2014</td>\n",
              "      <td>35572</td>\n",
              "      <td>33440</td>\n",
              "      <td>SUV</td>\n",
              "      <td>Black</td>\n",
              "      <td>Black</td>\n",
              "      <td>6 Cyl</td>\n",
              "      <td>Automatic</td>\n",
              "      <td>4</td>\n",
              "    </tr>\n",
              "  </tbody>\n",
              "</table>\n",
              "</div>"
            ],
            "text/plain": [
              "      Make                           Model  Year  ...  Engine  Transmission Doors\n",
              "0   Toyota                      Avalon XLE  2014  ...   6 Cyl     Automatic     4\n",
              "1     Ford                       Escape SE  2014  ...   4 Cyl     Automatic     4\n",
              "2  Hyundai                  Santa Fe Sport  2014  ...   4 Cyl     Automatic     4\n",
              "3     Ford                       Escape SE  2014  ...   4 Cyl     Automatic     4\n",
              "4     Jeep  Grand Cherokee Limited Edition  2014  ...   6 Cyl     Automatic     4\n",
              "\n",
              "[5 rows x 11 columns]"
            ]
          },
          "metadata": {
            "tags": []
          },
          "execution_count": 7
        }
      ]
    },
    {
      "cell_type": "markdown",
      "metadata": {
        "id": "14A7tQYoV8PH"
      },
      "source": [
        "We still don't know if the data-types are read correctly, we didn't specify them. The `info` method gives us a summary information: "
      ]
    },
    {
      "cell_type": "code",
      "metadata": {
        "id": "cOKXPWk3N6sm",
        "colab": {
          "base_uri": "https://localhost:8080/"
        },
        "outputId": "331a3656-2c70-444a-cca1-b26fcf27b31d"
      },
      "source": [
        "df.info()"
      ],
      "execution_count": 8,
      "outputs": [
        {
          "output_type": "stream",
          "text": [
            "<class 'pandas.core.frame.DataFrame'>\n",
            "RangeIndex: 9080 entries, 0 to 9079\n",
            "Data columns (total 11 columns):\n",
            " #   Column        Non-Null Count  Dtype \n",
            "---  ------        --------------  ----- \n",
            " 0   Make          9080 non-null   object\n",
            " 1   Model         9080 non-null   object\n",
            " 2   Year          9080 non-null   int64 \n",
            " 3   Mileage       9080 non-null   int64 \n",
            " 4   Price         9080 non-null   int64 \n",
            " 5   Body Style    9080 non-null   object\n",
            " 6   Ex Color      9080 non-null   object\n",
            " 7   In Color      9080 non-null   object\n",
            " 8   Engine        9080 non-null   object\n",
            " 9   Transmission  9080 non-null   object\n",
            " 10  Doors         9080 non-null   int64 \n",
            "dtypes: int64(4), object(7)\n",
            "memory usage: 780.4+ KB\n"
          ],
          "name": "stdout"
        }
      ]
    },
    {
      "cell_type": "markdown",
      "metadata": {
        "id": "C5LylI4xWT9N"
      },
      "source": [
        "You should notice that the data-types are not exactly correct. For instance, the type for the `Doors` attribute (column) is inferred as numeric (64-bit integer), but this is wrong (why?). \n",
        "\n",
        "So let's fix them! "
      ]
    },
    {
      "cell_type": "markdown",
      "metadata": {
        "id": "OT-mIc_eQmbt"
      },
      "source": [
        "Cars come with a distinct number of doors so better to catergorise them that have a potential continous number."
      ]
    },
    {
      "cell_type": "code",
      "metadata": {
        "id": "vZjVv-6mXrAe"
      },
      "source": [
        "df = df.astype({'Make':'category', 'Model':'category', 'Year':'category', \n",
        "                'Mileage':'int32', 'Price':'int64', 'Body Style':'category', \n",
        "                'Ex Color':'category' , 'In Color':'category', \n",
        "                'Engine':'category', 'Transmission':'category', 'Doors':'category'})"
      ],
      "execution_count": 9,
      "outputs": []
    },
    {
      "cell_type": "code",
      "metadata": {
        "id": "CivnwTo2ZtME",
        "colab": {
          "base_uri": "https://localhost:8080/"
        },
        "outputId": "ddb0f527-36c7-4a9c-f49a-f1caa19980a4"
      },
      "source": [
        "#Now, use the `info` method again to check if it had the desired effect:\n",
        "df.info()"
      ],
      "execution_count": 10,
      "outputs": [
        {
          "output_type": "stream",
          "text": [
            "<class 'pandas.core.frame.DataFrame'>\n",
            "RangeIndex: 9080 entries, 0 to 9079\n",
            "Data columns (total 11 columns):\n",
            " #   Column        Non-Null Count  Dtype   \n",
            "---  ------        --------------  -----   \n",
            " 0   Make          9080 non-null   category\n",
            " 1   Model         9080 non-null   category\n",
            " 2   Year          9080 non-null   category\n",
            " 3   Mileage       9080 non-null   int32   \n",
            " 4   Price         9080 non-null   int64   \n",
            " 5   Body Style    9080 non-null   category\n",
            " 6   Ex Color      9080 non-null   category\n",
            " 7   In Color      9080 non-null   category\n",
            " 8   Engine        9080 non-null   category\n",
            " 9   Transmission  9080 non-null   category\n",
            " 10  Doors         9080 non-null   category\n",
            "dtypes: category(9), int32(1), int64(1)\n",
            "memory usage: 248.0 KB\n"
          ],
          "name": "stdout"
        }
      ]
    },
    {
      "cell_type": "markdown",
      "metadata": {
        "id": "jeNSjWhdcFu6"
      },
      "source": [
        "---\n",
        "> **Q2:** You should also notice a change between the reported `memory usage` (the last line reported by the `info` method). What is the change? How do you explain the change?"
      ]
    },
    {
      "cell_type": "markdown",
      "metadata": {
        "id": "id8BF8wvb9g8"
      },
      "source": [
        "> **A2:** \n",
        "Memory usaage has decreased from 780.4 to 248.0 possibly due to having distinct catergories rather than object data and only using integer data types where the variable is continuous.\n",
        "\n",
        "certain data types use less memory than others. notice that we didnt only change the Door attribute Dtype but also specified the correct Dtype for all the other attributes. specifically changing all objects to categorical, changing Year from int64 to categorical, lowering the Mileage from int64 to int32. This in effect also lowered the memory usage.\n",
        "---"
      ]
    },
    {
      "cell_type": "markdown",
      "metadata": {
        "id": "HG2CamjdPfFs"
      },
      "source": [
        "\n",
        "\n",
        "## 2. Basic exploratory questions using Python\n",
        "\n"
      ]
    },
    {
      "cell_type": "markdown",
      "metadata": {
        "id": "qOPoiejtZdwD"
      },
      "source": [
        "Here we compute various summary statistics, which are quantities, such as the mean and standard deviation, that capture various characteristics of a potentially large set of values with a single number or a small set of numbers. \n"
      ]
    },
    {
      "cell_type": "markdown",
      "metadata": {
        "id": "8yo2wMMFdINB"
      },
      "source": [
        "---\n",
        "> **Q3:** Use the provided hints to answer the questions about exploring your dataset."
      ]
    },
    {
      "cell_type": "markdown",
      "metadata": {
        "id": "LIDYDNj7TJdd"
      },
      "source": [
        "> a. How many instances does the dataset have?"
      ]
    },
    {
      "cell_type": "code",
      "metadata": {
        "id": "PHyGIQ2OTwfl",
        "colab": {
          "base_uri": "https://localhost:8080/"
        },
        "outputId": "c3440730-dfae-477f-8ee7-69684530a4b4"
      },
      "source": [
        "# hint: interpret the output of the following code:\n",
        "print(df.shape)"
      ],
      "execution_count": 11,
      "outputs": [
        {
          "output_type": "stream",
          "text": [
            "(9080, 11)\n"
          ],
          "name": "stdout"
        }
      ]
    },
    {
      "cell_type": "markdown",
      "metadata": {
        "id": "IGbvaybkUIUR"
      },
      "source": [
        "> b. How many attributes?"
      ]
    },
    {
      "cell_type": "code",
      "metadata": {
        "id": "Lq38Z5FVRQ5i",
        "colab": {
          "base_uri": "https://localhost:8080/"
        },
        "outputId": "f6094c06-772f-48d5-ee77-d439aaa0bc3e"
      },
      "source": [
        "# again, you can answer the question by interpreting the output of the same code:\n",
        "print(df.shape)"
      ],
      "execution_count": 12,
      "outputs": [
        {
          "output_type": "stream",
          "text": [
            "(9080, 11)\n"
          ],
          "name": "stdout"
        }
      ]
    },
    {
      "cell_type": "markdown",
      "metadata": {
        "id": "8SPh2orQW8KG"
      },
      "source": [
        "> c. What are the attributes?"
      ]
    },
    {
      "cell_type": "code",
      "metadata": {
        "id": "BzDyp-DvXDiw",
        "colab": {
          "base_uri": "https://localhost:8080/"
        },
        "outputId": "eeb8d374-5c73-4c58-8ef6-b61e7f64f204"
      },
      "source": [
        "# a pandas dataframe has an attribute called columns:\n",
        "print(df.columns)"
      ],
      "execution_count": 13,
      "outputs": [
        {
          "output_type": "stream",
          "text": [
            "Index(['Make', 'Model', 'Year', 'Mileage', 'Price', 'Body Style', 'Ex Color',\n",
            "       'In Color', 'Engine', 'Transmission', 'Doors'],\n",
            "      dtype='object')\n"
          ],
          "name": "stdout"
        }
      ]
    },
    {
      "cell_type": "markdown",
      "metadata": {
        "id": "5CvTYxKMXQ_5"
      },
      "source": [
        "> d. What are the possible values for **Body Style** & **External Color**?"
      ]
    },
    {
      "cell_type": "code",
      "metadata": {
        "id": "-bIdyCeWXhFG",
        "colab": {
          "base_uri": "https://localhost:8080/"
        },
        "outputId": "7027b309-6dc2-4d70-da58-9f4a088b8eb4"
      },
      "source": [
        "# the \"unique\" method helps: \n",
        "print('Possible body styles:')\n",
        "print(df['Body Style'].unique())\n",
        "\n",
        "# now your turn, for external colour:\n",
        "print('Possible external colours:')\n",
        "print(df['Ex Color'].unique())"
      ],
      "execution_count": 29,
      "outputs": [
        {
          "output_type": "stream",
          "text": [
            "Possible body styles:\n",
            "['Sedan', 'SUV', 'Hatchback', 'Wagon', 'Coupe', 'Minivan', 'Van', 'Pickup', 'Convertible', 'Chassis']\n",
            "Categories (10, object): ['Sedan', 'SUV', 'Hatchback', 'Wagon', ..., 'Van', 'Pickup', 'Convertible',\n",
            "                          'Chassis']\n",
            "Possible external colours:\n",
            "['Gray', 'Silver', 'Black', 'White', 'Red', ..., 'Orange', 'Beige', 'Yellow', 'Bronze', 'Pink']\n",
            "Length: 15\n",
            "Categories (15, object): ['Gray', 'Silver', 'Black', 'White', ..., 'Beige', 'Yellow', 'Bronze',\n",
            "                          'Pink']\n"
          ],
          "name": "stdout"
        }
      ]
    },
    {
      "cell_type": "markdown",
      "metadata": {
        "id": "nNED-99zZf6w"
      },
      "source": [
        "> e. What is the *minimum*, *maximum*, *average*, *median* and *standard deviation* price?"
      ]
    },
    {
      "cell_type": "code",
      "metadata": {
        "id": "NRvSaH7IZppP",
        "colab": {
          "base_uri": "https://localhost:8080/"
        },
        "outputId": "3cc48952-d95a-48a5-fc09-88f27970db2a"
      },
      "source": [
        "# these are easy, to get the minimum:\n",
        "print('min = {}'.format(df['Price'].min()))\n",
        "# now, you do the rest:\n",
        "print('max = {}'.format(df['Price'].max()))\n",
        "print('mean = {}'.format(df['Price'].mean()))\n",
        "print('median = {}'.format(df['Price'].median()))\n",
        "print('Standard deviation = {}'.format(df['Price'].std()))"
      ],
      "execution_count": 19,
      "outputs": [
        {
          "output_type": "stream",
          "text": [
            "min = 1490\n",
            "max = 499898\n",
            "mean = 24410.92665198238\n",
            "median = 21500.0\n",
            "Standard deviation = 16300.355338946363\n"
          ],
          "name": "stdout"
        }
      ]
    },
    {
      "cell_type": "markdown",
      "metadata": {
        "id": "vm4fAH2RbHuX"
      },
      "source": [
        "> f. Why might the median price be different than the average price?\n",
        "\n",
        "The average price and the middle price are not the same due to skewed data "
      ]
    },
    {
      "cell_type": "markdown",
      "metadata": {
        "id": "Yk9PQPvIbQpl"
      },
      "source": [
        "> g. What is the most common year of car?"
      ]
    },
    {
      "cell_type": "code",
      "metadata": {
        "id": "b2mcEe-hbrpc",
        "colab": {
          "base_uri": "https://localhost:8080/"
        },
        "outputId": "6f0e1684-e8c5-4f3a-856c-c21f88c6ecd2"
      },
      "source": [
        "# hint: you can either use the 'mode()' method, \n",
        "# or the value_counts() along with idxmax()\n",
        "print(df['Year'].mode())\n",
        "print(df['Year'].value_counts().idxmax())"
      ],
      "execution_count": 21,
      "outputs": [
        {
          "output_type": "stream",
          "text": [
            "0    2011\n",
            "Name: Year, dtype: category\n",
            "Categories (24, int64): [1990, 1993, 1994, 1995, ..., 2012, 2013, 2014, 2015]\n",
            "2011\n"
          ],
          "name": "stdout"
        }
      ]
    },
    {
      "cell_type": "markdown",
      "metadata": {
        "id": "2XLXYcq7cd9F"
      },
      "source": [
        "> h. What is the ratio of 2-door to 4-door cars? "
      ]
    },
    {
      "cell_type": "code",
      "metadata": {
        "id": "fZrDVln8bAVc"
      },
      "source": [
        "# Hint: you can use the output of the value_counts()...\n",
        "print(df['Doors'].value_counts())\n",
        "print('The ratio of 2-door to 4-door cars is: {}'.format('?'))"
      ],
      "execution_count": null,
      "outputs": []
    },
    {
      "cell_type": "markdown",
      "metadata": {
        "id": "BbxDhMO0dj6h"
      },
      "source": [
        "> i. What is the average price of a Honda car versus a Mercedes-Benz car? **Hint:** Try $\\texttt{df.loc}$."
      ]
    },
    {
      "cell_type": "code",
      "metadata": {
        "id": "T6yes3WGdvJ2",
        "colab": {
          "base_uri": "https://localhost:8080/"
        },
        "outputId": "6220c77a-bd1a-4ae6-b041-af42a2852092"
      },
      "source": [
        "# For Honda:\n",
        "print('Average price of a Honda car = {:.2f}'.format(df.loc[df['Make'] == 'Honda']['Price'].mean()))\n",
        "# Now you do for Mercedes-Benz:\n",
        "print('Average price of a Mercedes-Benz car = {:.2f}'.format(df.loc[df['Make'] == 'Mercedes-Benz']['Price'].mean()))"
      ],
      "execution_count": 22,
      "outputs": [
        {
          "output_type": "stream",
          "text": [
            "Average price of a Honda car = 18337.49\n",
            "Average price of a Mercedes-Benz car = 37620.97\n"
          ],
          "name": "stdout"
        }
      ]
    },
    {
      "cell_type": "markdown",
      "metadata": {
        "id": "gOFnYjusZdwS"
      },
      "source": [
        "> j. It is also possible to display the summary for all the attributes simultaneously in a table using the describe() function. If an attribute is quantitative, it will display its mean, standard deviation and various quantiles (including minimum, median, and maximum) values. If an attribute is qualitative, it will display its number of unique values and the top (most frequent) values. \n",
        "\n",
        "**<font color=\"red\"></font>**"
      ]
    },
    {
      "cell_type": "code",
      "metadata": {
        "id": "Q-HA-MDIZdwT",
        "colab": {
          "base_uri": "https://localhost:8080/",
          "height": 390
        },
        "outputId": "3a10e645-b946-46f5-e3d7-b8d18479f488"
      },
      "source": [
        "df.describe(include='all')"
      ],
      "execution_count": 23,
      "outputs": [
        {
          "output_type": "execute_result",
          "data": {
            "text/html": [
              "<div>\n",
              "<style scoped>\n",
              "    .dataframe tbody tr th:only-of-type {\n",
              "        vertical-align: middle;\n",
              "    }\n",
              "\n",
              "    .dataframe tbody tr th {\n",
              "        vertical-align: top;\n",
              "    }\n",
              "\n",
              "    .dataframe thead th {\n",
              "        text-align: right;\n",
              "    }\n",
              "</style>\n",
              "<table border=\"1\" class=\"dataframe\">\n",
              "  <thead>\n",
              "    <tr style=\"text-align: right;\">\n",
              "      <th></th>\n",
              "      <th>Make</th>\n",
              "      <th>Model</th>\n",
              "      <th>Year</th>\n",
              "      <th>Mileage</th>\n",
              "      <th>Price</th>\n",
              "      <th>Body Style</th>\n",
              "      <th>Ex Color</th>\n",
              "      <th>In Color</th>\n",
              "      <th>Engine</th>\n",
              "      <th>Transmission</th>\n",
              "      <th>Doors</th>\n",
              "    </tr>\n",
              "  </thead>\n",
              "  <tbody>\n",
              "    <tr>\n",
              "      <th>count</th>\n",
              "      <td>9080</td>\n",
              "      <td>9080</td>\n",
              "      <td>9080.0</td>\n",
              "      <td>9080.000000</td>\n",
              "      <td>9080.000000</td>\n",
              "      <td>9080</td>\n",
              "      <td>9080</td>\n",
              "      <td>9080</td>\n",
              "      <td>9080</td>\n",
              "      <td>9080</td>\n",
              "      <td>9080.0</td>\n",
              "    </tr>\n",
              "    <tr>\n",
              "      <th>unique</th>\n",
              "      <td>49</td>\n",
              "      <td>1060</td>\n",
              "      <td>24.0</td>\n",
              "      <td>NaN</td>\n",
              "      <td>NaN</td>\n",
              "      <td>10</td>\n",
              "      <td>15</td>\n",
              "      <td>9</td>\n",
              "      <td>10</td>\n",
              "      <td>2</td>\n",
              "      <td>3.0</td>\n",
              "    </tr>\n",
              "    <tr>\n",
              "      <th>top</th>\n",
              "      <td>Nissan</td>\n",
              "      <td>Altima S</td>\n",
              "      <td>2011.0</td>\n",
              "      <td>NaN</td>\n",
              "      <td>NaN</td>\n",
              "      <td>Sedan</td>\n",
              "      <td>Black</td>\n",
              "      <td>Black</td>\n",
              "      <td>6 Cyl</td>\n",
              "      <td>Automatic</td>\n",
              "      <td>4.0</td>\n",
              "    </tr>\n",
              "    <tr>\n",
              "      <th>freq</th>\n",
              "      <td>1035</td>\n",
              "      <td>197</td>\n",
              "      <td>2641.0</td>\n",
              "      <td>NaN</td>\n",
              "      <td>NaN</td>\n",
              "      <td>3905</td>\n",
              "      <td>2404</td>\n",
              "      <td>4164</td>\n",
              "      <td>4313</td>\n",
              "      <td>8797</td>\n",
              "      <td>8221.0</td>\n",
              "    </tr>\n",
              "    <tr>\n",
              "      <th>mean</th>\n",
              "      <td>NaN</td>\n",
              "      <td>NaN</td>\n",
              "      <td>NaN</td>\n",
              "      <td>41875.531057</td>\n",
              "      <td>24410.926652</td>\n",
              "      <td>NaN</td>\n",
              "      <td>NaN</td>\n",
              "      <td>NaN</td>\n",
              "      <td>NaN</td>\n",
              "      <td>NaN</td>\n",
              "      <td>NaN</td>\n",
              "    </tr>\n",
              "    <tr>\n",
              "      <th>std</th>\n",
              "      <td>NaN</td>\n",
              "      <td>NaN</td>\n",
              "      <td>NaN</td>\n",
              "      <td>33146.564303</td>\n",
              "      <td>16300.355339</td>\n",
              "      <td>NaN</td>\n",
              "      <td>NaN</td>\n",
              "      <td>NaN</td>\n",
              "      <td>NaN</td>\n",
              "      <td>NaN</td>\n",
              "      <td>NaN</td>\n",
              "    </tr>\n",
              "    <tr>\n",
              "      <th>min</th>\n",
              "      <td>NaN</td>\n",
              "      <td>NaN</td>\n",
              "      <td>NaN</td>\n",
              "      <td>1.000000</td>\n",
              "      <td>1490.000000</td>\n",
              "      <td>NaN</td>\n",
              "      <td>NaN</td>\n",
              "      <td>NaN</td>\n",
              "      <td>NaN</td>\n",
              "      <td>NaN</td>\n",
              "      <td>NaN</td>\n",
              "    </tr>\n",
              "    <tr>\n",
              "      <th>25%</th>\n",
              "      <td>NaN</td>\n",
              "      <td>NaN</td>\n",
              "      <td>NaN</td>\n",
              "      <td>20112.250000</td>\n",
              "      <td>15987.750000</td>\n",
              "      <td>NaN</td>\n",
              "      <td>NaN</td>\n",
              "      <td>NaN</td>\n",
              "      <td>NaN</td>\n",
              "      <td>NaN</td>\n",
              "      <td>NaN</td>\n",
              "    </tr>\n",
              "    <tr>\n",
              "      <th>50%</th>\n",
              "      <td>NaN</td>\n",
              "      <td>NaN</td>\n",
              "      <td>NaN</td>\n",
              "      <td>33532.000000</td>\n",
              "      <td>21500.000000</td>\n",
              "      <td>NaN</td>\n",
              "      <td>NaN</td>\n",
              "      <td>NaN</td>\n",
              "      <td>NaN</td>\n",
              "      <td>NaN</td>\n",
              "      <td>NaN</td>\n",
              "    </tr>\n",
              "    <tr>\n",
              "      <th>75%</th>\n",
              "      <td>NaN</td>\n",
              "      <td>NaN</td>\n",
              "      <td>NaN</td>\n",
              "      <td>52564.500000</td>\n",
              "      <td>28998.000000</td>\n",
              "      <td>NaN</td>\n",
              "      <td>NaN</td>\n",
              "      <td>NaN</td>\n",
              "      <td>NaN</td>\n",
              "      <td>NaN</td>\n",
              "      <td>NaN</td>\n",
              "    </tr>\n",
              "    <tr>\n",
              "      <th>max</th>\n",
              "      <td>NaN</td>\n",
              "      <td>NaN</td>\n",
              "      <td>NaN</td>\n",
              "      <td>279950.000000</td>\n",
              "      <td>499898.000000</td>\n",
              "      <td>NaN</td>\n",
              "      <td>NaN</td>\n",
              "      <td>NaN</td>\n",
              "      <td>NaN</td>\n",
              "      <td>NaN</td>\n",
              "      <td>NaN</td>\n",
              "    </tr>\n",
              "  </tbody>\n",
              "</table>\n",
              "</div>"
            ],
            "text/plain": [
              "          Make     Model    Year  ...  Engine  Transmission   Doors\n",
              "count     9080      9080  9080.0  ...    9080          9080  9080.0\n",
              "unique      49      1060    24.0  ...      10             2     3.0\n",
              "top     Nissan  Altima S  2011.0  ...   6 Cyl     Automatic     4.0\n",
              "freq      1035       197  2641.0  ...    4313          8797  8221.0\n",
              "mean       NaN       NaN     NaN  ...     NaN           NaN     NaN\n",
              "std        NaN       NaN     NaN  ...     NaN           NaN     NaN\n",
              "min        NaN       NaN     NaN  ...     NaN           NaN     NaN\n",
              "25%        NaN       NaN     NaN  ...     NaN           NaN     NaN\n",
              "50%        NaN       NaN     NaN  ...     NaN           NaN     NaN\n",
              "75%        NaN       NaN     NaN  ...     NaN           NaN     NaN\n",
              "max        NaN       NaN     NaN  ...     NaN           NaN     NaN\n",
              "\n",
              "[11 rows x 11 columns]"
            ]
          },
          "metadata": {
            "tags": []
          },
          "execution_count": 23
        }
      ]
    },
    {
      "cell_type": "markdown",
      "metadata": {
        "id": "qrYkX03aZdwU"
      },
      "source": [
        "Note that count refers to the number of non-missing values for each attribute."
      ]
    },
    {
      "cell_type": "markdown",
      "metadata": {
        "id": "cfhx2ABmZdwU"
      },
      "source": [
        "> k. For multivariate statistics, you can compute the covariance and correlation between pairs of attributes.\n",
        "\n",
        "**<font color=\"red\"></font>**"
      ]
    },
    {
      "cell_type": "code",
      "metadata": {
        "id": "sao9-AVFZdwV",
        "colab": {
          "base_uri": "https://localhost:8080/",
          "height": 128
        },
        "outputId": "008c0a98-4c7b-470a-8173-0aa8286fc4a2"
      },
      "source": [
        "print('Covariance:')\n",
        "df.cov()"
      ],
      "execution_count": 24,
      "outputs": [
        {
          "output_type": "stream",
          "text": [
            "Covariance:\n"
          ],
          "name": "stdout"
        },
        {
          "output_type": "execute_result",
          "data": {
            "text/html": [
              "<div>\n",
              "<style scoped>\n",
              "    .dataframe tbody tr th:only-of-type {\n",
              "        vertical-align: middle;\n",
              "    }\n",
              "\n",
              "    .dataframe tbody tr th {\n",
              "        vertical-align: top;\n",
              "    }\n",
              "\n",
              "    .dataframe thead th {\n",
              "        text-align: right;\n",
              "    }\n",
              "</style>\n",
              "<table border=\"1\" class=\"dataframe\">\n",
              "  <thead>\n",
              "    <tr style=\"text-align: right;\">\n",
              "      <th></th>\n",
              "      <th>Mileage</th>\n",
              "      <th>Price</th>\n",
              "    </tr>\n",
              "  </thead>\n",
              "  <tbody>\n",
              "    <tr>\n",
              "      <th>Mileage</th>\n",
              "      <td>1.098695e+09</td>\n",
              "      <td>-2.188586e+08</td>\n",
              "    </tr>\n",
              "    <tr>\n",
              "      <th>Price</th>\n",
              "      <td>-2.188586e+08</td>\n",
              "      <td>2.657016e+08</td>\n",
              "    </tr>\n",
              "  </tbody>\n",
              "</table>\n",
              "</div>"
            ],
            "text/plain": [
              "              Mileage         Price\n",
              "Mileage  1.098695e+09 -2.188586e+08\n",
              "Price   -2.188586e+08  2.657016e+08"
            ]
          },
          "metadata": {
            "tags": []
          },
          "execution_count": 24
        }
      ]
    },
    {
      "cell_type": "code",
      "metadata": {
        "id": "GAjoJjSnZdwW",
        "colab": {
          "base_uri": "https://localhost:8080/",
          "height": 128
        },
        "outputId": "aaa6b6be-ef6a-4f30-c712-bf0046a1ef00"
      },
      "source": [
        "print('Correlation:')\n",
        "df.corr()"
      ],
      "execution_count": 25,
      "outputs": [
        {
          "output_type": "stream",
          "text": [
            "Correlation:\n"
          ],
          "name": "stdout"
        },
        {
          "output_type": "execute_result",
          "data": {
            "text/html": [
              "<div>\n",
              "<style scoped>\n",
              "    .dataframe tbody tr th:only-of-type {\n",
              "        vertical-align: middle;\n",
              "    }\n",
              "\n",
              "    .dataframe tbody tr th {\n",
              "        vertical-align: top;\n",
              "    }\n",
              "\n",
              "    .dataframe thead th {\n",
              "        text-align: right;\n",
              "    }\n",
              "</style>\n",
              "<table border=\"1\" class=\"dataframe\">\n",
              "  <thead>\n",
              "    <tr style=\"text-align: right;\">\n",
              "      <th></th>\n",
              "      <th>Mileage</th>\n",
              "      <th>Price</th>\n",
              "    </tr>\n",
              "  </thead>\n",
              "  <tbody>\n",
              "    <tr>\n",
              "      <th>Mileage</th>\n",
              "      <td>1.000000</td>\n",
              "      <td>-0.405068</td>\n",
              "    </tr>\n",
              "    <tr>\n",
              "      <th>Price</th>\n",
              "      <td>-0.405068</td>\n",
              "      <td>1.000000</td>\n",
              "    </tr>\n",
              "  </tbody>\n",
              "</table>\n",
              "</div>"
            ],
            "text/plain": [
              "          Mileage     Price\n",
              "Mileage  1.000000 -0.405068\n",
              "Price   -0.405068  1.000000"
            ]
          },
          "metadata": {
            "tags": []
          },
          "execution_count": 25
        }
      ]
    },
    {
      "cell_type": "markdown",
      "metadata": {
        "id": "FWoLpa4kld5u"
      },
      "source": [
        "---"
      ]
    },
    {
      "cell_type": "markdown",
      "metadata": {
        "id": "ZViWoH9Pk2g3"
      },
      "source": [
        "## 3. Basic data visualisation using Python\n"
      ]
    },
    {
      "cell_type": "markdown",
      "metadata": {
        "id": "s_oAGucaZdwY"
      },
      "source": [
        "Data visualization is the display of information in a graphic or tabular format. Successful visualization requires that the data (information) be converted into a visual format so that the characteristics of the data and the relationships among data items or attributes can be analyzed or reported. \n"
      ]
    },
    {
      "cell_type": "markdown",
      "metadata": {
        "id": "Z1guks8KZdwZ"
      },
      "source": [
        "---\n",
        "> To display the histogram for the milieage attribute by discretizing it into 8 separate bins and counting the frequency for each bin, run this code:\n",
        "\n",
        "**<font color=\"red\"></font>**"
      ]
    },
    {
      "cell_type": "code",
      "metadata": {
        "id": "VBuE4lx9ZdwZ",
        "colab": {
          "base_uri": "https://localhost:8080/",
          "height": 285
        },
        "outputId": "778371c7-6e69-46c3-9194-6781c47ff05e"
      },
      "source": [
        "%matplotlib inline\n",
        "\n",
        "df['Mileage'].hist(bins=8)"
      ],
      "execution_count": 26,
      "outputs": [
        {
          "output_type": "execute_result",
          "data": {
            "text/plain": [
              "<matplotlib.axes._subplots.AxesSubplot at 0x7f8d828b7990>"
            ]
          },
          "metadata": {
            "tags": []
          },
          "execution_count": 26
        },
        {
          "output_type": "display_data",
          "data": {
            "image/png": "[encoded data removed]",
            "text/plain": [
              "<Figure size 432x288 with 1 Axes>"
            ]
          },
          "metadata": {
            "tags": [],
            "needs_background": "light"
          }
        }
      ]
    },
    {
      "cell_type": "markdown",
      "metadata": {
        "id": "lxeuhuSeZdwa"
      },
      "source": [
        "> A boxplot can also be used to show the distribution of values for each attribute.\n",
        "\n",
        "**<font color=\"red\"></font>**"
      ]
    },
    {
      "cell_type": "code",
      "metadata": {
        "id": "jsD7-QHXZdwb",
        "colab": {
          "base_uri": "https://localhost:8080/",
          "height": 282
        },
        "outputId": "b0140fff-7c18-4947-bf32-945202b761f3"
      },
      "source": [
        "df.boxplot()"
      ],
      "execution_count": 27,
      "outputs": [
        {
          "output_type": "execute_result",
          "data": {
            "text/plain": [
              "<matplotlib.axes._subplots.AxesSubplot at 0x7f8d824fd090>"
            ]
          },
          "metadata": {
            "tags": []
          },
          "execution_count": 27
        },
        {
          "output_type": "display_data",
          "data": {
            "image/png": "[encoded data removed]",
            "text/plain": [
              "<Figure size 432x288 with 1 Axes>"
            ]
          },
          "metadata": {
            "tags": [],
            "needs_background": "light"
          }
        }
      ]
    },
    {
      "cell_type": "markdown",
      "metadata": {
        "id": "7iMyZB0TZdwc"
      },
      "source": [
        "> We can finally plot pairwise relationships in a dataset by running the code below. By default, this function will create a grid of axes such that each numeric variable in our dataset will be shared across the y-axes across a single row and the x-axes across a single column. In the diagonal plots, a univariate distribution plot is drawn to show the marginal distribution of the data in each column. Here scatterplot() is used for each pairing of the variables and histplot() for the marginal plots along the diagonal.\n",
        "\n",
        "**<font color=\"red\"></font>**"
      ]
    },
    {
      "cell_type": "code",
      "metadata": {
        "id": "h9MF9IA2mBAE",
        "colab": {
          "base_uri": "https://localhost:8080/",
          "height": 391
        },
        "outputId": "28609b91-bb45-4b6a-d4f1-9f06612e087b"
      },
      "source": [
        "import seaborn as sns\n",
        "import matplotlib.pyplot as plt\n",
        "sns.pairplot(df)"
      ],
      "execution_count": 28,
      "outputs": [
        {
          "output_type": "execute_result",
          "data": {
            "text/plain": [
              "<seaborn.axisgrid.PairGrid at 0x7f8d82041d90>"
            ]
          },
          "metadata": {
            "tags": []
          },
          "execution_count": 28
        },
        {
          "output_type": "display_data",
          "data": {
            "image/png": "[encoded data removed]",
            "text/plain": [
              "<Figure size 360x360 with 6 Axes>"
            ]
          },
          "metadata": {
            "tags": [],
            "needs_background": "light"
          }
        }
      ]
    },
    {
      "cell_type": "markdown",
      "metadata": {
        "id": "Qn_a3nqYXH8N"
      },
      "source": [
        "---\n",
        "> **Q4:** Execute the command above and interpret what the plot is showing. In particular, describe the general trend between `mileage` and `price`, as well as `mileage` and `year`."
      ]
    },
    {
      "cell_type": "markdown",
      "metadata": {
        "id": "xztMxUgTl6Vx"
      },
      "source": [
        "> **A4:**\n",
        "\n",
        "The majority of the cars have a low mileage\n",
        "The cheaper the car the higher the mileage \n",
        "The older the car the higher the mileage \n",
        "\n",
        "---"
      ]
    }
  ]
}